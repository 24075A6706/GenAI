{
 "cells": [
  {
   "cell_type": "code",
   "execution_count": 59,
   "metadata": {},
   "outputs": [
    {
     "name": "stdout",
     "output_type": "stream",
     "text": [
      "accuracy is 100.0\n",
      "['Iris-setosa']\n"
     ]
    },
    {
     "name": "stderr",
     "output_type": "stream",
     "text": [
      "c:\\Users\\pagil\\anaconda3\\Lib\\site-packages\\sklearn\\base.py:493: UserWarning: X does not have valid feature names, but LogisticRegression was fitted with feature names\n",
      "  warnings.warn(\n"
     ]
    }
   ],
   "source": [
    "#classification\n",
    "from sklearn.linear_model import LogisticRegression\n",
    "from sklearn.model_selection import train_test_split\n",
    "from sklearn.metrics import accuracy_score\n",
    "import pandas as pd\n",
    "import matplotlib.pyplot as plt\n",
    "dataframe0=pd.read_csv(\"Iris.csv\")\n",
    "dataframe1=pd.DataFrame(dataframe0)\n",
    "dataframe1.drop(\"Id\",axis=1,inplace=True)\n",
    "x=dataframe1.iloc[:,0:4]\n",
    "y=dataframe1[\"Species\"]\n",
    "x_train,x_test,y_train,y_test=train_test_split(x,y,test_size=0.2,random_state=40)\n",
    "classmodel=LogisticRegression()\n",
    "classmodel.fit(x_train,y_train)\n",
    "y_pred=classmodel.predict(x_test)\n",
    "accuracy=accuracy_score(y_test,y_pred)\n",
    "print(f\"accuracy is {accuracy*100}\")\n",
    "print(classmodel.predict([[5.2,4.0,1.5,0.1]]))\n"
   ]
  },
  {
   "cell_type": "code",
   "execution_count": null,
   "metadata": {},
   "outputs": [
    {
     "name": "stdout",
     "output_type": "stream",
     "text": [
      "R2 score  is 63.562180455088104\n",
      "RMSE  is 122158003.63572142\n",
      "MAE  is 85033056.03711009\n",
      "<class 'pandas.core.frame.DataFrame'>\n",
      "RangeIndex: 545 entries, 0 to 544\n",
      "Data columns (total 14 columns):\n",
      " #   Column                           Non-Null Count  Dtype\n",
      "---  ------                           --------------  -----\n",
      " 0   price                            545 non-null    int64\n",
      " 1   area                             545 non-null    int64\n",
      " 2   bedrooms                         545 non-null    int64\n",
      " 3   bathrooms                        545 non-null    int64\n",
      " 4   stories                          545 non-null    int64\n",
      " 5   parking                          545 non-null    int64\n",
      " 6   mainroad_yes                     545 non-null    bool \n",
      " 7   guestroom_yes                    545 non-null    bool \n",
      " 8   basement_yes                     545 non-null    bool \n",
      " 9   hotwaterheating_yes              545 non-null    bool \n",
      " 10  airconditioning_yes              545 non-null    bool \n",
      " 11  prefarea_yes                     545 non-null    bool \n",
      " 12  furnishingstatus_semi-furnished  545 non-null    bool \n",
      " 13  furnishingstatus_unfurnished     545 non-null    bool \n",
      "dtypes: bool(8), int64(6)\n",
      "memory usage: 29.9 KB\n"
     ]
    }
   ],
   "source": [
    "from sklearn.linear_model import LinearRegression\n",
    "from sklearn.metrics import r2_score,root_mean_squared_error,mean_absolute_error\n",
    "from sklearn.model_selection import train_test_split\n",
    "import pandas as pd\n",
    "housedata=pd.DataFrame(pd.read_csv(\"Housing.csv\"))\n",
    "housedata = pd.get_dummies(housedata, drop_first=True)\n",
    "x=housedata.drop(columns=[\"price\"])\n",
    "y=housedata[\"price\"]\n",
    "linearmodel=LinearRegression()\n",
    "x_train,x_test,y_train,y_test=train_test_split(x,y,test_size=0.3,random_state=40)\n",
    "linearmodel.fit(x_train,y_train)\n",
    "y_pred=linearmodel.predict(x_test)\n",
    "r2score=r2_score(y_test,y_pred)\n",
    "rmse=root_mean_squared_error(y_test,y_pred)\n",
    "mae=mean_absolute_error(y_test,y_pred)\n",
    "print(f\"R2 score  is {r2score*100}\")\n",
    "print(f\"RMSE  is {rmse*100}\")\n",
    "print(f\"MAE  is {mae*100}\")\n",
    "housedata.info()"
   ]
  }
 ],
 "metadata": {
  "kernelspec": {
   "display_name": "base",
   "language": "python",
   "name": "python3"
  },
  "language_info": {
   "codemirror_mode": {
    "name": "ipython",
    "version": 3
   },
   "file_extension": ".py",
   "mimetype": "text/x-python",
   "name": "python",
   "nbconvert_exporter": "python",
   "pygments_lexer": "ipython3",
   "version": "3.12.7"
  }
 },
 "nbformat": 4,
 "nbformat_minor": 2
}
