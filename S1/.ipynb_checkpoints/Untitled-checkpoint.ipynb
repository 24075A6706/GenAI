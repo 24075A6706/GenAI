{
 "cells": [
  {
   "cell_type": "code",
   "execution_count": 5,
   "id": "c41030e5-a2ec-4074-b7f3-0644fc0cb44a",
   "metadata": {},
   "outputs": [
    {
     "name": "stdin",
     "output_type": "stream",
     "text": [
      "Enter the number you want to check if its a prime :  5\n"
     ]
    },
    {
     "name": "stdout",
     "output_type": "stream",
     "text": [
      "True\n"
     ]
    }
   ],
   "source": [
    "#Write a Python program to check if a number is prime.\n",
    "def is_prime(n):\n",
    "    if n==2:\n",
    "        return True\n",
    "    else:\n",
    "        for i in range(2,n-1):\n",
    "            if(n%i==0):\n",
    "                return False\n",
    "    return True\n",
    "\n",
    "n=int(input(\"Enter the number you want to check if its a prime : \"))\n",
    "print(is_prime(n))\n"
   ]
  },
  {
   "cell_type": "code",
   "execution_count": 11,
   "id": "d4c7029f-d3bb-4b20-8b7a-8d387d069984",
   "metadata": {},
   "outputs": [
    {
     "name": "stdin",
     "output_type": "stream",
     "text": [
      "Enter the size :  20\n"
     ]
    },
    {
     "name": "stdout",
     "output_type": "stream",
     "text": [
      "1 2 3 5 8 13 21 34 55 89 144 233 377 610 987 1597 2584 4181 6765 10946 "
     ]
    }
   ],
   "source": [
    "#Create a Fibonacci sequence generator using recursion\n",
    "def fibonacci(n,m,size):\n",
    "    if(size>0):\n",
    "        print(m,end=\" \")\n",
    "        fibonacci(m,m+n,size-1)\n",
    "    else:\n",
    "        return 0;\n",
    "\n",
    "size=int(input(\"Enter the size : \"))\n",
    "print(1,end=\" \")\n",
    "fibonacci(1,2,size-1)\n",
    "\n",
    "    "
   ]
  },
  {
   "cell_type": "code",
   "execution_count": 15,
   "id": "dd81ac35-a939-4f5b-8433-11dd791cfc47",
   "metadata": {},
   "outputs": [
    {
     "name": "stdin",
     "output_type": "stream",
     "text": [
      "Enter no 1 :  10\n",
      "Enter no 2 :  20\n"
     ]
    },
    {
     "name": "stdout",
     "output_type": "stream",
     "text": [
      "GCD is 10\n",
      "LCM is 20.0\n"
     ]
    }
   ],
   "source": [
    "#Write a function to find the Greatest Common Divisor (GCD) and Least Common Multiple (LCM) of two numbers\n",
    "def gcd(n,m):\n",
    "    if n>m:\n",
    "        if n%m==0:\n",
    "            return m;\n",
    "        else:\n",
    "            gcdn=0;\n",
    "            for i in range(m):\n",
    "                if n%i==0 and m%i==0:\n",
    "                    gcdn=i\n",
    "            return gcdn\n",
    "    elif n==m:\n",
    "        return n\n",
    "    else:\n",
    "        if m%n==0:\n",
    "            return n;\n",
    "        else:\n",
    "            gcdn=0;\n",
    "            for i in range(n):\n",
    "                if n%i==0 and m%i==0:\n",
    "                    gcdn=i\n",
    "            return gcdn\n",
    "\n",
    "def lcm(n,m):\n",
    "    lcmn=(n*m)/gcd(n,m)\n",
    "    return lcmn\n",
    "\n",
    "n=int(input(\"Enter no 1 : \"))\n",
    "m=int(input(\"Enter no 2 : \"))\n",
    "print(f\"GCD is {gcd(n,m)}\")\n",
    "print(f\"LCM is {lcm(n,m)}\")\n",
    "    \n",
    "        \n",
    "        "
   ]
  },
  {
   "cell_type": "code",
   "execution_count": null,
   "id": "0b05e3e8-5e0f-4dc9-90bc-f7e6e5ea8647",
   "metadata": {},
   "outputs": [],
   "source": []
  }
 ],
 "metadata": {
  "kernelspec": {
   "display_name": "Python [conda env:base] *",
   "language": "python",
   "name": "conda-base-py"
  },
  "language_info": {
   "codemirror_mode": {
    "name": "ipython",
    "version": 3
   },
   "file_extension": ".py",
   "mimetype": "text/x-python",
   "name": "python",
   "nbconvert_exporter": "python",
   "pygments_lexer": "ipython3",
   "version": "3.12.7"
  }
 },
 "nbformat": 4,
 "nbformat_minor": 5
}
