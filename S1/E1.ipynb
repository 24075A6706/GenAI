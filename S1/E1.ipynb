{
 "cells": [
  {
   "cell_type": "code",
   "execution_count": 1,
   "id": "c41030e5-a2ec-4074-b7f3-0644fc0cb44a",
   "metadata": {},
   "outputs": [
    {
     "name": "stdout",
     "output_type": "stream",
     "text": [
      "False\n"
     ]
    }
   ],
   "source": [
    "#Write a Python program to check if a number is prime.\n",
    "def is_prime(n):\n",
    "    if n==2:\n",
    "        return True\n",
    "    else:\n",
    "        for i in range(2,n-1):\n",
    "            if(n%i==0):\n",
    "                return False\n",
    "    return True\n",
    "\n",
    "n=int(input(\"Enter the number you want to check if its a prime : \"))\n",
    "print(is_prime(n))\n"
   ]
  },
  {
   "cell_type": "code",
   "execution_count": 11,
   "id": "d4c7029f-d3bb-4b20-8b7a-8d387d069984",
   "metadata": {},
   "outputs": [
    {
     "name": "stdout",
     "output_type": "stream",
     "text": [
      "Enter the size :  20\n"
     ]
    },
    {
     "name": "stdout",
     "output_type": "stream",
     "text": [
      "1 2 3 5 8 13 21 34 55 89 144 233 377 610 987 1597 2584 4181 6765 10946 "
     ]
    }
   ],
   "source": [
    "#Create a Fibonacci sequence generator using recursion\n",
    "def fibonacci(n,m,size):\n",
    "    if(size>0):\n",
    "        print(m,end=\" \")\n",
    "        fibonacci(m,m+n,size-1)\n",
    "    else:\n",
    "        return 0;\n",
    "\n",
    "size=int(input(\"Enter the size : \"))\n",
    "print(1,end=\" \")\n",
    "fibonacci(1,2,size-1)\n",
    "\n",
    "    "
   ]
  },
  {
   "cell_type": "code",
   "execution_count": 15,
   "id": "dd81ac35-a939-4f5b-8433-11dd791cfc47",
   "metadata": {},
   "outputs": [
    {
     "name": "stdout",
     "output_type": "stream",
     "text": [
      "Enter no 1 :  10\n",
      "Enter no 2 :  20\n"
     ]
    },
    {
     "name": "stdout",
     "output_type": "stream",
     "text": [
      "GCD is 10\n",
      "LCM is 20.0\n"
     ]
    }
   ],
   "source": [
    "#Write a function to find the Greatest Common Divisor (GCD) and Least Common Multiple (LCM) of two numbers\n",
    "def gcd(n,m):\n",
    "    if n>m:\n",
    "        if n%m==0:\n",
    "            return m;\n",
    "        else:\n",
    "            gcdn=0;\n",
    "            for i in range(m):\n",
    "                if n%i==0 and m%i==0:\n",
    "                    gcdn=i\n",
    "            return gcdn\n",
    "    elif n==m:\n",
    "        return n\n",
    "    else:\n",
    "        if m%n==0:\n",
    "            return n;\n",
    "        else:\n",
    "            gcdn=0;\n",
    "            for i in range(n):\n",
    "                if n%i==0 and m%i==0:\n",
    "                    gcdn=i\n",
    "            return gcdn\n",
    "\n",
    "def lcm(n,m):\n",
    "    lcmn=(n*m)/gcd(n,m)\n",
    "    return lcmn\n",
    "\n",
    "n=int(input(\"Enter no 1 : \"))\n",
    "m=int(input(\"Enter no 2 : \"))\n",
    "print(f\"GCD is {gcd(n,m)}\")\n",
    "print(f\"LCM is {lcm(n,m)}\")\n",
    "    \n",
    "        \n",
    "        "
   ]
  },
  {
   "cell_type": "code",
   "execution_count": 2,
   "id": "0b05e3e8-5e0f-4dc9-90bc-f7e6e5ea8647",
   "metadata": {},
   "outputs": [
    {
     "name": "stdout",
     "output_type": "stream",
     "text": [
      "Addition is : 30\n",
      "Subtraction is : -10\n",
      "Multiplication is : 200\n",
      "Division is : 0.5\n"
     ]
    }
   ],
   "source": [
    "#Build a simple calculator using functions.\n",
    "def add(a,b):\n",
    "    return a+b\n",
    "def sub(a,b):\n",
    "    return a-b\n",
    "def mul(a,b):\n",
    "    return a*b\n",
    "def div(a,b):\n",
    "    return a/b\n",
    "a=int(input(\"Enter no 1 : \"))\n",
    "b=int(input(\"Enter no 2: \"))\n",
    "print(\"Addition is :\",add(a,b))\n",
    "print(\"Subtraction is :\",sub(a,b))\n",
    "print(\"Multiplication is :\",mul(a,b))\n",
    "print(\"Division is :\",div(a,b))"
   ]
  },
  {
   "cell_type": "code",
   "execution_count": 4,
   "id": "739baace",
   "metadata": {},
   "outputs": [
    {
     "name": "stdout",
     "output_type": "stream",
     "text": [
      "List before removing duplicates is : [10, 20, 30, 10, 20, 30, 30]\n",
      "List after deleting duplicates is : [10, 20, 30]\n"
     ]
    }
   ],
   "source": [
    "#Implement a program that takes a list and removes duplicates\n",
    "list1=[10,20,30,10,20,30,30]\n",
    "print(\"List before removing duplicates is :\",list1)\n",
    "set1=set(list1)\n",
    "print(\"List after deleting duplicates is :\",list(set1))"
   ]
  },
  {
   "cell_type": "code",
   "execution_count": 6,
   "id": "94174246",
   "metadata": {},
   "outputs": [
    {
     "name": "stdout",
     "output_type": "stream",
     "text": [
      "{'a': 1, 'b': 2, 'c': 3, 'd': 4, 'e': 5}\n"
     ]
    }
   ],
   "source": [
    "#Create a dictionary, add five key-value pairs, and print them\n",
    "dict1={\"a\":1,\"b\":2,\"c\":3,\"d\":4,\"e\":5}\n",
    "print(dict1)"
   ]
  },
  {
   "cell_type": "code",
   "execution_count": 12,
   "id": "92e93de0",
   "metadata": {},
   "outputs": [
    {
     "name": "stdout",
     "output_type": "stream",
     "text": [
      "Matrix addition is :\n",
      " [[10 10 10]\n",
      " [10 10 10]\n",
      " [10 10 10]]\n",
      "Matrix subtraction is :\n",
      " [[-8 -6 -4]\n",
      " [-2  0  2]\n",
      " [ 4  6  8]]\n",
      "Matrix multiplication is :\n",
      " [[ 9 16 21]\n",
      " [24 25 24]\n",
      " [21 16  9]]\n",
      "Matrix division is :\n",
      " [[0.11111111 0.25       0.42857143]\n",
      " [0.66666667 1.         1.5       ]\n",
      " [2.33333333 4.         9.        ]]\n"
     ]
    }
   ],
   "source": [
    "#Use NumPy to perform basic matrix operations.\n",
    "import numpy as np\n",
    "matrix1=np.array([[1,2,3],\n",
    "        [4,5,6],\n",
    "        [7,8,9]])\n",
    "matrix2=np.array([[9,8,7],\n",
    "        [6,5,4],\n",
    "        [3,2,1]])\n",
    "print(\"Matrix addition is :\\n\",matrix1+matrix2)\n",
    "print(\"Matrix subtraction is :\\n\",matrix1-matrix2)\n",
    "print(\"Matrix multiplication is :\\n\",matrix1*matrix2)\n",
    "print(\"Matrix division is :\\n\",matrix1/matrix2)"
   ]
  },
  {
   "cell_type": "code",
   "execution_count": 17,
   "id": "1b3e28f1",
   "metadata": {},
   "outputs": [
    {
     "name": "stdout",
     "output_type": "stream",
     "text": [
      "      Make        Model January February March April  May June July August  \\\n",
      "0  Citroen       Basalt       0        0     0     0    0    0    0    579   \n",
      "1  Citroen           C3     234      211   265   251  155   77   90    507   \n",
      "2  Citroen     Aircross     231      127   211    93  125  136   68     38   \n",
      "3  Citroen  C5 Aircross       1        0     0     1    0    0    0      1   \n",
      "4  Citroen         e-C3     184       83   530    59  235  126  177    150   \n",
      "\n",
      "   ... October  November  December   Total  Segment  Body Type MoM %  YoY %  \\\n",
      "0  ...      221        47       79  1267.0       C2        SUV  68.0    0.0   \n",
      "1  ...      300       200      300  2890.0       C1  Hatchback  50.0   -3.0   \n",
      "2  ...      103       201       96  1470.0       C2        SUV -52.0  -72.0   \n",
      "3  ...        4         0        1     9.0       D2        SUV   0.0  -50.0   \n",
      "4  ...       89        61       90  1812.0       C1        SUV  48.0    0.0   \n",
      "\n",
      "   Unnamed: 19  Unnamed: 20  \n",
      "0          NaN          NaN  \n",
      "1          NaN          NaN  \n",
      "2          NaN          NaN  \n",
      "3          NaN          NaN  \n",
      "4          NaN          NaN  \n",
      "\n",
      "[5 rows x 21 columns]\n"
     ]
    }
   ],
   "source": [
    "#Read a CSV file using pandas and display the first 5 rows.\n",
    "import pandas as pd\n",
    "file1=pd.read_csv(\"C:/Users/pagil/OneDrive/Documents/Datasets/car sales data  set/Car Sales India 2024.csv\")\n",
    "df=pd.DataFrame(file1)\n",
    "print(df.head())"
   ]
  },
  {
   "cell_type": "code",
   "execution_count": null,
   "id": "4309b1c4",
   "metadata": {},
   "outputs": [
    {
     "name": "stdout",
     "output_type": "stream",
     "text": [
      "this\n"
     ]
    }
   ],
   "source": [
    "#Write a function that finds the most common word in a given text.\n",
    "def most_common_word(text):\n",
    "    text = text.lower()\n",
    "    words = text.split()\n",
    "    word_counts = {}\n",
    "    for word in words:\n",
    "        if word in word_counts:\n",
    "            word_counts[word] += 1\n",
    "        else:\n",
    "            word_counts[word] = 1\n",
    "    \n",
    "    most_common = max(word_counts, key=word_counts.get)\n",
    "    \n",
    "    return most_common\n",
    "\n",
    "text = \"This this this what is this\"\n",
    "print(most_common_word(text))\n"
   ]
  },
  {
   "cell_type": "code",
   "execution_count": 21,
   "id": "4bc761de",
   "metadata": {},
   "outputs": [
    {
     "name": "stdout",
     "output_type": "stream",
     "text": [
      "l#Xnn[H(sS0E\n"
     ]
    }
   ],
   "source": [
    "#Create a function that generates a random password with a mix of uppercase, lowercase, digits, and special characters.\n",
    "import random\n",
    "import string\n",
    "\n",
    "def generate_random_password(length):\n",
    "    uppercase_letters = string.ascii_uppercase\n",
    "    lowercase_letters = string.ascii_lowercase\n",
    "    digits = string.digits\n",
    "    special_characters = string.punctuation\n",
    "    password = [\n",
    "        random.choice(uppercase_letters),\n",
    "        random.choice(lowercase_letters),\n",
    "        random.choice(digits),\n",
    "        random.choice(special_characters)\n",
    "    ]\n",
    "    all_characters = uppercase_letters + lowercase_letters + digits + special_characters\n",
    "    password += random.choices(all_characters, k=length - 4)\n",
    "    random.shuffle(password)\n",
    "    return ''.join(password)\n",
    "password_length = 12\n",
    "print(generate_random_password(password_length))\n"
   ]
  }
 ],
 "metadata": {
  "kernelspec": {
   "display_name": "base",
   "language": "python",
   "name": "python3"
  },
  "language_info": {
   "codemirror_mode": {
    "name": "ipython",
    "version": 3
   },
   "file_extension": ".py",
   "mimetype": "text/x-python",
   "name": "python",
   "nbconvert_exporter": "python",
   "pygments_lexer": "ipython3",
   "version": "3.12.7"
  }
 },
 "nbformat": 4,
 "nbformat_minor": 5
}
