{
 "cells": [
  {
   "cell_type": "code",
   "execution_count": 1,
   "metadata": {},
   "outputs": [
    {
     "name": "stdout",
     "output_type": "stream",
     "text": [
      "[10 20 30]\n"
     ]
    }
   ],
   "source": [
    "#Create a NumPy array from a list.\n",
    "import numpy as np\n",
    "arr=np.array([10,20,30])\n",
    "print(arr)"
   ]
  },
  {
   "cell_type": "code",
   "execution_count": 2,
   "metadata": {},
   "outputs": [
    {
     "name": "stdout",
     "output_type": "stream",
     "text": [
      "[0. 0. 0. 0. 0. 0. 0. 0. 0. 0.]\n",
      "[1. 1. 1. 1. 1. 1. 1. 1. 1. 1.]\n",
      "[5 5 5 5 5 5 5 5 5 5]\n"
     ]
    }
   ],
   "source": [
    "#Generate an array of zeros, ones, or a specific constant in NumPy\n",
    "import numpy as np\n",
    "zero_arr=np.zeros(10)\n",
    "one_arr=np.ones(10)\n",
    "cons_arr=np.full(10,5)\n",
    "print(zero_arr)\n",
    "print(one_arr)\n",
    "print(cons_arr)"
   ]
  },
  {
   "cell_type": "code",
   "execution_count": 3,
   "metadata": {},
   "outputs": [
    {
     "name": "stdout",
     "output_type": "stream",
     "text": [
      "min is 10\n",
      "max is 40\n",
      "mean is 28.0\n"
     ]
    }
   ],
   "source": [
    "#Find the maximum, minimum, and mean of a NumPy array.\n",
    "import numpy as np\n",
    "arr=np.array([10,20,30,40,40])\n",
    "mean1=np.mean(arr)\n",
    "max1=np.max(arr)\n",
    "min1=np.min(arr)\n",
    "print(f\"min is {min1}\")\n",
    "print(f\"max is {max1}\")\n",
    "print(f\"mean is {mean1}\")"
   ]
  },
  {
   "cell_type": "code",
   "execution_count": 4,
   "metadata": {},
   "outputs": [
    {
     "name": "stdout",
     "output_type": "stream",
     "text": [
      "[[ 1  2  3]\n",
      " [10 20 30]\n",
      " [ 0  9  8]\n",
      " [67 57 88]]\n",
      "[[ 1  2  3  0  9  8]\n",
      " [10 20 30 67 57 88]]\n"
     ]
    }
   ],
   "source": [
    "#Stack two NumPy arrays vertically and horizontally.\n",
    "import numpy as np\n",
    "arr1=np.array([[1,2,3],[10,20,30]])\n",
    "arr2=np.array([[0,9,8],[67,57,88]])\n",
    "print(np.vstack((arr1,arr2)))\n",
    "print(np.hstack((arr1,arr2)))"
   ]
  },
  {
   "cell_type": "code",
   "execution_count": 5,
   "metadata": {},
   "outputs": [
    {
     "name": "stdout",
     "output_type": "stream",
     "text": [
      "[10 20 30 40]\n"
     ]
    }
   ],
   "source": [
    "#Find unique elements in a NumPy array.\n",
    "arr1=np.array([10,20,30,30,30,40,40])\n",
    "print(np.unique(arr1))"
   ]
  },
  {
   "cell_type": "code",
   "execution_count": 6,
   "metadata": {},
   "outputs": [
    {
     "name": "stdout",
     "output_type": "stream",
     "text": [
      "[[0.92318065 0.25179548 0.17288087 0.99362584 0.58352858]\n",
      " [0.91547417 0.36103333 0.85566762 0.26190616 0.95450082]\n",
      " [0.06892999 0.88336529 0.17323119 0.387045   0.67130091]\n",
      " [0.23353679 0.22993106 0.99316622 0.05437959 0.35962362]\n",
      " [0.66352108 0.56281167 0.16929053 0.0134939  0.93211036]]\n"
     ]
    }
   ],
   "source": [
    "#Generate a random number matrix of size 5*5 using NumPy.\n",
    "import numpy as np\n",
    "arr=np.random.rand(5,5)\n",
    "print(arr)"
   ]
  },
  {
   "cell_type": "code",
   "execution_count": 7,
   "metadata": {},
   "outputs": [
    {
     "name": "stdout",
     "output_type": "stream",
     "text": [
      "88\n"
     ]
    }
   ],
   "source": [
    "#Extract an element in the matrix.\n",
    "arr=np.array([1,45,6,77,88])\n",
    "print(arr[4])"
   ]
  },
  {
   "cell_type": "code",
   "execution_count": 8,
   "metadata": {},
   "outputs": [
    {
     "name": "stdout",
     "output_type": "stream",
     "text": [
      "   a   b   c\n",
      "0  1  20   2\n",
      "1  2  20   3\n",
      "2  3  40   4\n",
      "3  4  45   6\n",
      "4  5  40  66\n"
     ]
    }
   ],
   "source": [
    "#Create a Pandas DataFrame from a dictionary or a list\n",
    "import pandas as pds\n",
    "data1={\n",
    "    \"a\":[1,2,3,4,5],\n",
    "    \"b\":[20,20,40,45,40],\n",
    "    \"c\":[2,3,4,6,66]\n",
    "}\n",
    "df1=pds.DataFrame(data1)\n",
    "print(df1)"
   ]
  },
  {
   "cell_type": "code",
   "execution_count": 9,
   "metadata": {},
   "outputs": [
    {
     "name": "stdout",
     "output_type": "stream",
     "text": [
      "    A   B key   C   D\n",
      "0  A0  B0  K0  C0  D0\n",
      "1  A1  B1  K1  C1  D1\n",
      "2  A2  B2  K2  C2  D2\n"
     ]
    }
   ],
   "source": [
    "#Merge or concatenate two Pandas DataFrames\n",
    "import pandas as pd\n",
    "df1 = pd.DataFrame({\n",
    "    'A': ['A0', 'A1', 'A2'],\n",
    "    'B': ['B0', 'B1', 'B2'],\n",
    "    'key': ['K0', 'K1', 'K2']\n",
    "})\n",
    "df2 = pd.DataFrame({\n",
    "    'C': ['C0', 'C1', 'C2'],\n",
    "    'D': ['D0', 'D1', 'D2'],\n",
    "    'key': ['K0', 'K1', 'K2']\n",
    "})\n",
    "result = pd.merge(df1, df2)\n",
    "print(result)\n"
   ]
  },
  {
   "cell_type": "code",
   "execution_count": 10,
   "metadata": {},
   "outputs": [
    {
     "name": "stdout",
     "output_type": "stream",
     "text": [
      "Country/Region             0\n",
      "Confirmed                  0\n",
      "Deaths                    17\n",
      "Recovered                  6\n",
      "Active                     5\n",
      "New cases                 33\n",
      "New deaths                91\n",
      "New recovered             61\n",
      "Deaths / 100 Cases        17\n",
      "Recovered / 100 Cases      6\n",
      "Deaths / 100 Recovered    17\n",
      "Confirmed last week        0\n",
      "1 week change             12\n",
      "1 week % increase         12\n",
      "WHO Region                 0\n",
      "dtype: int64\n"
     ]
    },
    {
     "data": {
      "text/html": [
       "<div>\n",
       "<style scoped>\n",
       "    .dataframe tbody tr th:only-of-type {\n",
       "        vertical-align: middle;\n",
       "    }\n",
       "\n",
       "    .dataframe tbody tr th {\n",
       "        vertical-align: top;\n",
       "    }\n",
       "\n",
       "    .dataframe thead th {\n",
       "        text-align: right;\n",
       "    }\n",
       "</style>\n",
       "<table border=\"1\" class=\"dataframe\">\n",
       "  <thead>\n",
       "    <tr style=\"text-align: right;\">\n",
       "      <th></th>\n",
       "      <th>Country/Region</th>\n",
       "      <th>Confirmed</th>\n",
       "      <th>Deaths</th>\n",
       "      <th>Recovered</th>\n",
       "      <th>Active</th>\n",
       "      <th>New cases</th>\n",
       "      <th>New deaths</th>\n",
       "      <th>New recovered</th>\n",
       "      <th>Deaths / 100 Cases</th>\n",
       "      <th>Recovered / 100 Cases</th>\n",
       "      <th>Deaths / 100 Recovered</th>\n",
       "      <th>Confirmed last week</th>\n",
       "      <th>1 week change</th>\n",
       "      <th>1 week % increase</th>\n",
       "      <th>WHO Region</th>\n",
       "    </tr>\n",
       "  </thead>\n",
       "  <tbody>\n",
       "    <tr>\n",
       "      <th>0</th>\n",
       "      <td>Afghanistan</td>\n",
       "      <td>36263</td>\n",
       "      <td>1269.0</td>\n",
       "      <td>25198.0</td>\n",
       "      <td>9796.0</td>\n",
       "      <td>106.0</td>\n",
       "      <td>10.0</td>\n",
       "      <td>18.0</td>\n",
       "      <td>3.50</td>\n",
       "      <td>69.49</td>\n",
       "      <td>5.04</td>\n",
       "      <td>35526</td>\n",
       "      <td>737.0</td>\n",
       "      <td>2.07</td>\n",
       "      <td>Eastern Mediterranean</td>\n",
       "    </tr>\n",
       "    <tr>\n",
       "      <th>1</th>\n",
       "      <td>Albania</td>\n",
       "      <td>4880</td>\n",
       "      <td>144.0</td>\n",
       "      <td>2745.0</td>\n",
       "      <td>1991.0</td>\n",
       "      <td>117.0</td>\n",
       "      <td>6.0</td>\n",
       "      <td>63.0</td>\n",
       "      <td>2.95</td>\n",
       "      <td>56.25</td>\n",
       "      <td>5.25</td>\n",
       "      <td>4171</td>\n",
       "      <td>709.0</td>\n",
       "      <td>17.00</td>\n",
       "      <td>Europe</td>\n",
       "    </tr>\n",
       "    <tr>\n",
       "      <th>2</th>\n",
       "      <td>Algeria</td>\n",
       "      <td>27973</td>\n",
       "      <td>1163.0</td>\n",
       "      <td>18837.0</td>\n",
       "      <td>7973.0</td>\n",
       "      <td>616.0</td>\n",
       "      <td>8.0</td>\n",
       "      <td>749.0</td>\n",
       "      <td>4.16</td>\n",
       "      <td>67.34</td>\n",
       "      <td>6.17</td>\n",
       "      <td>23691</td>\n",
       "      <td>4282.0</td>\n",
       "      <td>18.07</td>\n",
       "      <td>Africa</td>\n",
       "    </tr>\n",
       "    <tr>\n",
       "      <th>3</th>\n",
       "      <td>Andorra</td>\n",
       "      <td>907</td>\n",
       "      <td>52.0</td>\n",
       "      <td>803.0</td>\n",
       "      <td>52.0</td>\n",
       "      <td>10.0</td>\n",
       "      <td>NaN</td>\n",
       "      <td>NaN</td>\n",
       "      <td>5.73</td>\n",
       "      <td>88.53</td>\n",
       "      <td>6.48</td>\n",
       "      <td>884</td>\n",
       "      <td>23.0</td>\n",
       "      <td>2.60</td>\n",
       "      <td>Europe</td>\n",
       "    </tr>\n",
       "    <tr>\n",
       "      <th>4</th>\n",
       "      <td>Angola</td>\n",
       "      <td>950</td>\n",
       "      <td>41.0</td>\n",
       "      <td>242.0</td>\n",
       "      <td>667.0</td>\n",
       "      <td>18.0</td>\n",
       "      <td>1.0</td>\n",
       "      <td>NaN</td>\n",
       "      <td>4.32</td>\n",
       "      <td>25.47</td>\n",
       "      <td>16.94</td>\n",
       "      <td>749</td>\n",
       "      <td>201.0</td>\n",
       "      <td>26.84</td>\n",
       "      <td>Africa</td>\n",
       "    </tr>\n",
       "  </tbody>\n",
       "</table>\n",
       "</div>"
      ],
      "text/plain": [
       "  Country/Region  Confirmed  Deaths  Recovered  Active  New cases  New deaths  \\\n",
       "0    Afghanistan      36263  1269.0    25198.0  9796.0      106.0        10.0   \n",
       "1        Albania       4880   144.0     2745.0  1991.0      117.0         6.0   \n",
       "2        Algeria      27973  1163.0    18837.0  7973.0      616.0         8.0   \n",
       "3        Andorra        907    52.0      803.0    52.0       10.0         NaN   \n",
       "4         Angola        950    41.0      242.0   667.0       18.0         1.0   \n",
       "\n",
       "   New recovered  Deaths / 100 Cases  Recovered / 100 Cases  \\\n",
       "0           18.0                3.50                  69.49   \n",
       "1           63.0                2.95                  56.25   \n",
       "2          749.0                4.16                  67.34   \n",
       "3            NaN                5.73                  88.53   \n",
       "4            NaN                4.32                  25.47   \n",
       "\n",
       "   Deaths / 100 Recovered  Confirmed last week  1 week change  \\\n",
       "0                    5.04                35526          737.0   \n",
       "1                    5.25                 4171          709.0   \n",
       "2                    6.17                23691         4282.0   \n",
       "3                    6.48                  884           23.0   \n",
       "4                   16.94                  749          201.0   \n",
       "\n",
       "   1 week % increase             WHO Region  \n",
       "0               2.07  Eastern Mediterranean  \n",
       "1              17.00                 Europe  \n",
       "2              18.07                 Africa  \n",
       "3               2.60                 Europe  \n",
       "4              26.84                 Africa  "
      ]
     },
     "execution_count": 10,
     "metadata": {},
     "output_type": "execute_result"
    }
   ],
   "source": [
    "#Fill missing values in the above data.\n",
    "import pandas as pd\n",
    "data1=pd.read_csv(\"country_wise_latest_modified.csv\")\n",
    "df1=pd.DataFrame(data1)\n",
    "print(df1.isnull().sum())\n",
    "df1.head()"
   ]
  },
  {
   "cell_type": "code",
   "execution_count": 11,
   "metadata": {},
   "outputs": [
    {
     "data": {
      "text/plain": [
       "Confirmed                 0\n",
       "Deaths                    0\n",
       "Recovered                 0\n",
       "Active                    0\n",
       "New cases                 0\n",
       "New deaths                0\n",
       "New recovered             0\n",
       "Deaths / 100 Cases        0\n",
       "Recovered / 100 Cases     0\n",
       "Deaths / 100 Recovered    0\n",
       "Confirmed last week       0\n",
       "1 week change             0\n",
       "1 week % increase         0\n",
       "dtype: int64"
      ]
     },
     "execution_count": 11,
     "metadata": {},
     "output_type": "execute_result"
    }
   ],
   "source": [
    "df2=df1.iloc[:,1:14]\n",
    "df2.fillna(df2.mean(),inplace=True)\n",
    "df2.isnull().sum()"
   ]
  },
  {
   "cell_type": "code",
   "execution_count": 12,
   "metadata": {},
   "outputs": [
    {
     "data": {
      "text/plain": [
       "Country/Region            0\n",
       "Confirmed                 0\n",
       "Deaths                    0\n",
       "Recovered                 0\n",
       "Active                    0\n",
       "New cases                 0\n",
       "New deaths                0\n",
       "New recovered             0\n",
       "Deaths / 100 Cases        0\n",
       "Recovered / 100 Cases     0\n",
       "Deaths / 100 Recovered    0\n",
       "Confirmed last week       0\n",
       "1 week change             0\n",
       "1 week % increase         0\n",
       "WHO Region                0\n",
       "dtype: int64"
      ]
     },
     "execution_count": 12,
     "metadata": {},
     "output_type": "execute_result"
    }
   ],
   "source": [
    "df1=pd.concat((df1[\"Country/Region\"],df2,df1[\"WHO Region\"]),axis=1)\n",
    "df1.shape\n",
    "df1.isnull().sum()"
   ]
  },
  {
   "cell_type": "code",
   "execution_count": 13,
   "metadata": {},
   "outputs": [],
   "source": [
    "#Drop a column or a row in the above data.\n",
    "df2.drop(columns=\"New cases\",inplace=True)"
   ]
  },
  {
   "cell_type": "code",
   "execution_count": 14,
   "metadata": {},
   "outputs": [],
   "source": [
    "#Export a Pandas DataFrame to a CSV or Excel file.\n",
    "import pandas as pd\n",
    "d01=pd.DataFrame({1:[1,2,3],2:[2,3,4],3:[3,4,5]})\n",
    "d01.to_csv(\"example dataframe.csv\")"
   ]
  },
  {
   "cell_type": "code",
   "execution_count": 15,
   "metadata": {},
   "outputs": [
    {
     "name": "stdout",
     "output_type": "stream",
     "text": [
      "     Country/Region  Confirmed    Deaths     Recovered     Active  \\\n",
      "6         Argentina     167416    3059.0  7.257500e+04    91782.0   \n",
      "13       Bangladesh     226225    2965.0  1.256830e+05    97577.0   \n",
      "23           Brazil    2442375   87618.0  1.846641e+06   508116.0   \n",
      "32           Canada     116458    8944.0  5.230987e+04   107514.0   \n",
      "35            Chile     347923    9187.0  3.199540e+05    18782.0   \n",
      "37         Colombia     257101    8777.0  1.311610e+05   117163.0   \n",
      "61           France     220352   30212.0  8.121200e+04   108928.0   \n",
      "65          Germany     207112    9125.0  1.903140e+05     7673.0   \n",
      "79            India    1480073   33408.0  9.511660e+05   495499.0   \n",
      "80        Indonesia     100303    4838.0  5.817300e+04    37292.0   \n",
      "81             Iran     293606   15912.0  2.551440e+05    22550.0   \n",
      "82             Iraq     112585    4458.0  7.714400e+04    30983.0   \n",
      "85            Italy     246286   35112.0  1.985930e+05    12581.0   \n",
      "111          Mexico     395489   44022.0  3.038100e+05    47657.0   \n",
      "128        Pakistan     274289    5842.0  2.410260e+05    27421.0   \n",
      "132            Peru     389717   18418.0  2.725470e+05    98752.0   \n",
      "136           Qatar     109597     165.0  1.063280e+05     3104.0   \n",
      "138          Russia     816680   13334.0  6.022490e+05   201097.0   \n",
      "145    Saudi Arabia     268934    2760.0  2.229360e+05    43238.0   \n",
      "154    South Africa     452529    7067.0  2.749250e+05   170537.0   \n",
      "157           Spain     272421   28432.0  1.503760e+05    93613.0   \n",
      "172          Turkey     227019    5630.0  2.104690e+05    10920.0   \n",
      "173              US    4290259  148011.0  1.325804e+06  2816444.0   \n",
      "177  United Kingdom     301708   45844.0  1.437000e+03   254427.0   \n",
      "\n",
      "        New cases  New deaths  New recovered  Deaths / 100 Cases  \\\n",
      "6     4890.000000   120.00000    2057.000000                1.83   \n",
      "13    2772.000000    37.00000    1801.000000                1.31   \n",
      "23   23284.000000   614.00000   33728.000000                3.59   \n",
      "32     682.000000    11.00000    1385.896825                7.68   \n",
      "35    2133.000000    75.00000    1859.000000                2.64   \n",
      "37   16306.000000   508.00000   11494.000000                3.41   \n",
      "61    2551.000000    17.00000     267.000000               13.71   \n",
      "65     445.000000     1.00000     259.000000                4.41   \n",
      "79   44457.000000   637.00000   33598.000000                2.26   \n",
      "80    1525.000000    57.00000    1518.000000                4.82   \n",
      "81    2434.000000   212.00000    1931.000000                5.42   \n",
      "82    2553.000000    96.00000    1927.000000                3.96   \n",
      "85     168.000000     5.00000     147.000000               14.26   \n",
      "111   4973.000000   342.00000    8588.000000               11.13   \n",
      "128   1176.000000    20.00000    3592.000000                2.13   \n",
      "132  13756.000000   575.00000    4697.000000                4.73   \n",
      "136    292.000000    56.40625     304.000000                0.15   \n",
      "138   5607.000000    85.00000    3077.000000                1.63   \n",
      "145   1993.000000    27.00000    2613.000000                1.03   \n",
      "154   7096.000000   298.00000    9848.000000                1.56   \n",
      "157   1485.019481    56.40625    1385.896825               10.44   \n",
      "172    919.000000    17.00000     982.000000                2.48   \n",
      "173  56336.000000  1076.00000   27941.000000                3.45   \n",
      "177    688.000000     7.00000       3.000000               15.19   \n",
      "\n",
      "     Recovered / 100 Cases  Deaths / 100 Recovered  Confirmed last week  \\\n",
      "6                43.350000                    4.21               130774   \n",
      "13               55.560000                    2.36               207453   \n",
      "23               75.610000                    4.74              2118646   \n",
      "32               66.969282                     inf               112925   \n",
      "35               91.960000                    2.87               333029   \n",
      "37               51.020000                    6.69               204005   \n",
      "61               36.860000                   37.20               214023   \n",
      "65               91.890000                    4.79               203325   \n",
      "79               64.260000                    3.51              1155338   \n",
      "80               58.000000                    8.32                88214   \n",
      "81               86.900000                    6.24               276202   \n",
      "82               68.520000                    5.78                94693   \n",
      "85               80.640000                   17.68               244624   \n",
      "111              76.820000                   14.49               349396   \n",
      "128              87.870000                    2.42               266096   \n",
      "132              69.930000                    6.76               357681   \n",
      "136              97.020000                    0.16               107037   \n",
      "138              73.740000                    2.21               776212   \n",
      "145              82.900000                    1.24               253349   \n",
      "154              60.750000                    2.57               373628   \n",
      "157              55.200000                   18.91               264836   \n",
      "172              92.710000                    2.67               220572   \n",
      "173              30.900000                   11.16              3834677   \n",
      "177               0.480000                 3190.26               296944   \n",
      "\n",
      "     1 week change  1 week % increase             WHO Region  \n",
      "6          36642.0              28.02               Americas  \n",
      "13         18772.0               9.05        South-East Asia  \n",
      "23        323729.0              15.28               Americas  \n",
      "32          3533.0               3.13               Americas  \n",
      "35         14894.0               4.47               Americas  \n",
      "37         53096.0              26.03               Americas  \n",
      "61          6329.0               2.96                 Europe  \n",
      "65          3787.0               1.86                 Europe  \n",
      "79        324735.0              28.11        South-East Asia  \n",
      "80         12089.0              13.70        South-East Asia  \n",
      "81         17404.0               6.30  Eastern Mediterranean  \n",
      "82         17892.0              18.89  Eastern Mediterranean  \n",
      "85          1662.0               0.68                 Europe  \n",
      "111        46093.0              13.19               Americas  \n",
      "128         8193.0               3.08  Eastern Mediterranean  \n",
      "132        32036.0               8.96               Americas  \n",
      "136         2560.0               2.39  Eastern Mediterranean  \n",
      "138        40468.0               5.21                 Europe  \n",
      "145        15585.0               6.15  Eastern Mediterranean  \n",
      "154        78901.0              21.12                 Africa  \n",
      "157         7585.0               2.86                 Europe  \n",
      "172         6447.0               2.92                 Europe  \n",
      "173       455582.0              11.88               Americas  \n",
      "177         4764.0               1.60                 Europe  \n"
     ]
    }
   ],
   "source": [
    "#Filter rows in the above data based on a condition\n",
    "d02=df1[df1[\"Confirmed\"]>100000]\n",
    "print(d02)"
   ]
  },
  {
   "cell_type": "code",
   "execution_count": 16,
   "metadata": {},
   "outputs": [
    {
     "data": {
      "image/png": "[encoded data removed]",
      "text/plain": [
       "<Figure size 640x480 with 1 Axes>"
      ]
     },
     "metadata": {},
     "output_type": "display_data"
    }
   ],
   "source": [
    "#What is the relationship between confirmed cases and deaths?\n",
    "import matplotlib.pyplot as plt\n",
    "plt.scatter(x=df1[\"Confirmed\"],y=df1[\"Deaths\"])\n",
    "plt.xlabel(\"Confirmed\")\n",
    "plt.ylabel(\"Deaths\")\n",
    "plt.show()"
   ]
  },
  {
   "cell_type": "code",
   "execution_count": 22,
   "metadata": {},
   "outputs": [
    {
     "data": {
      "image/png": "[encoded data removed]",
      "text/plain": [
       "<Figure size 640x480 with 1 Axes>"
      ]
     },
     "metadata": {},
     "output_type": "display_data"
    }
   ],
   "source": [
    "#How does the number of active cases vary across different countries?\n",
    "cou_grouped=df1.groupby(\"Country/Region\")[\"Active\"].sum()\n",
    "plt.boxplot(cou_grouped)\n",
    "plt.show()"
   ]
  },
  {
   "cell_type": "code",
   "execution_count": 25,
   "metadata": {},
   "outputs": [
    {
     "data": {
      "text/plain": [
       "Text(0, 0.5, 'Active cases')"
      ]
     },
     "execution_count": 25,
     "metadata": {},
     "output_type": "execute_result"
    },
    {
     "data": {
      "image/png": "[encoded data removed]",
      "text/plain": [
       "<Figure size 640x480 with 1 Axes>"
      ]
     },
     "metadata": {},
     "output_type": "display_data"
    }
   ],
   "source": [
    "#How do the number of new cases compare across different WHO regions?\n",
    "plt.bar(df1[\"WHO Region\"],df1[\"New cases\"])\n",
    "plt.xlabel(\"WHO regions\")\n",
    "plt.ylabel(\"Active cases\")"
   ]
  },
  {
   "cell_type": "code",
   "execution_count": 35,
   "metadata": {},
   "outputs": [
    {
     "data": {
      "text/plain": [
       "<matplotlib.legend.Legend at 0x2251b5c2210>"
      ]
     },
     "execution_count": 35,
     "metadata": {},
     "output_type": "execute_result"
    },
    {
     "data": {
      "image/png": "[encoded data removed]",
      "text/plain": [
       "<Figure size 640x480 with 1 Axes>"
      ]
     },
     "metadata": {},
     "output_type": "display_data"
    }
   ],
   "source": [
    "#How has the number of confirmed cases changed compared to last week?\n",
    "plt.plot(df1[\"Confirmed last week\"], label='Confirmed Last Week')\n",
    "plt.plot(df1[\"Confirmed\"], label='Confirmed This Week')\n",
    "plt.xlabel(\"Date\")\n",
    "plt.ylabel(\"Number of Confirmed Cases\")\n",
    "plt.title(\"Change in Number of Confirmed Cases Compared to Last Week\")\n",
    "plt.legend()"
   ]
  }
 ],
 "metadata": {
  "kernelspec": {
   "display_name": "base",
   "language": "python",
   "name": "python3"
  },
  "language_info": {
   "codemirror_mode": {
    "name": "ipython",
    "version": 3
   },
   "file_extension": ".py",
   "mimetype": "text/x-python",
   "name": "python",
   "nbconvert_exporter": "python",
   "pygments_lexer": "ipython3",
   "version": "3.12.7"
  }
 },
 "nbformat": 4,
 "nbformat_minor": 4
}
